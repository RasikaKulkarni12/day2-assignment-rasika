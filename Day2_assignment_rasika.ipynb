{
  "nbformat": 4,
  "nbformat_minor": 0,
  "metadata": {
    "colab": {
      "name": "Day2 assignment rasika.ipynb",
      "provenance": [],
      "collapsed_sections": []
    },
    "kernelspec": {
      "name": "python3",
      "display_name": "Python 3"
    }
  },
  "cells": [
    {
      "cell_type": "markdown",
      "metadata": {
        "id": "GjcH3wiZt61b"
      },
      "source": [
        "Q1.Create an empty list. Accept 10 numbers from the user and append to it the list if it is an even number."
      ]
    },
    {
      "cell_type": "code",
      "metadata": {
        "id": "5Ryn00g43IQz",
        "outputId": "6a7222dd-76cb-4b90-d4c6-0d55d36f4de5",
        "colab": {
          "base_uri": "https://localhost:8080/"
        }
      },
      "source": [
        "#creating empty list\n",
        "x=[]\n",
        "for i in range(10):\n",
        "    y=int(input())\n",
        "    if y%2==0:x.append(y)\n",
        "print(x)"
      ],
      "execution_count": 57,
      "outputs": [
        {
          "output_type": "stream",
          "text": [
            "4\n",
            "55\n",
            "34\n",
            "88\n",
            "11\n",
            "96\n",
            "33\n",
            "62\n",
            "11\n",
            "77\n",
            "[4, 34, 88, 96, 62]\n"
          ],
          "name": "stdout"
        }
      ]
    },
    {
      "cell_type": "markdown",
      "metadata": {
        "id": "7dWwYu1g8pJw"
      },
      "source": [
        "Q2.Create a notebook on LIST COMPREHENSION. This exercise is to put you in a Self learning mode"
      ]
    },
    {
      "cell_type": "code",
      "metadata": {
        "id": "l7QL0c5t9C4c",
        "outputId": "f7b8ba6d-ec16-40c9-eb66-3aaf05b656ae",
        "colab": {
          "base_uri": "https://localhost:8080/"
        }
      },
      "source": [
        "num=[i for i in range(1,10+1) if i%2==0]\n",
        "print(num)"
      ],
      "execution_count": 58,
      "outputs": [
        {
          "output_type": "stream",
          "text": [
            "[2, 4, 6, 8, 10]\n"
          ],
          "name": "stdout"
        }
      ]
    },
    {
      "cell_type": "markdown",
      "metadata": {
        "id": "lYd1_oJk968t"
      },
      "source": [
        "Q3.You have seen in the videos how powerful dictionary data structure is.\n",
        "In this assignment, given a number n, you have to write a program that generates a dictionary d which\n",
        "contains (i, i*i), where i is from 1 to n (both included).\n",
        "Then you have to just print this dictionary d.\n",
        "Example:\n",
        "Input: 4\n",
        "will give output as\n",
        "{1: 1, 2: 4, 3: 9, 4: 16}\n",
        "Input Format:\n",
        "Take the number n in a single line.\n",
        "Output Format:\n",
        "Print the dictionary d in a single line."
      ]
    },
    {
      "cell_type": "code",
      "metadata": {
        "id": "snbdfQzF-OQD",
        "outputId": "b71a5e30-6584-48b7-d359-3ce6cceaad96",
        "colab": {
          "base_uri": "https://localhost:8080/"
        }
      },
      "source": [
        "n={}\n",
        "for i in range(1,int(input())+1):n[i]=i*i\n",
        "print(n)"
      ],
      "execution_count": 62,
      "outputs": [
        {
          "output_type": "stream",
          "text": [
            "15\n",
            "{1: 1, 2: 4, 3: 9, 4: 16, 5: 25, 6: 36, 7: 49, 8: 64, 9: 81, 10: 100, 11: 121, 12: 144, 13: 169, 14: 196, 15: 225}\n"
          ],
          "name": "stdout"
        }
      ]
    },
    {
      "cell_type": "markdown",
      "metadata": {
        "id": "S4GzHR5d-uRw"
      },
      "source": [
        "Q4.There is a robot which wants to go the charging point to charge itself.\n",
        "The robot moves in a 2-D plane from the original point (0,0). The robot can\n",
        "move toward UP, DOWN, LEFT and RIGHT with given steps.\n",
        "The trace of robot movement is shown as the following:\n",
        "UP 5\n",
        "DOWN 3\n",
        "LEFT 3\n",
        "RIGHT 2\n",
        "Then, the output of the program should be:\n",
        "2\n",
        "The numbers after the direction are steps.\n",
        "Write a program to compute the distance between the current position after\n",
        "a sequence of movement and original point. If the distance is a float, then\n",
        "just print the nearest integer (use round() function for that and then convert\n",
        "it into an integer).\n",
        "Input Format:\n",
        "The first line of the input contains a number n which implies the number of\n",
        "directions to be given.\n",
        "The next n lines contain the direction and the step separated by a space.\n",
        "Output Format:\n",
        "Print the distance from the original position to the current position.\n",
        "Example:\n",
        "Input:\n",
        "4\n",
        "UP 5\n",
        "DOWN 3\n",
        "LEFT 3\n",
        "RIGHT 2\n",
        "Output:\n",
        "2"
      ]
    },
    {
      "cell_type": "code",
      "metadata": {
        "id": "TIvhkm8w-6NC",
        "outputId": "7d43d1b5-d50b-4947-fe06-021b5575d856",
        "colab": {
          "base_uri": "https://localhost:8080/"
        }
      },
      "source": [
        "import math\n",
        "(x,y)=(0,0)\n",
        "for i in range(int(input())):\n",
        "    a,b=input().split()\n",
        "    a,b=str(a),int(b)\n",
        "    if a==\"DOWN\":x,y=x,y-b\n",
        "    elif a==\"LEFT\":x,y=x-b,y\n",
        "    elif a==\"RIGHT\":x,y=x+b,y\n",
        "    else:x,y=x,y+b\n",
        "print(round(math.sqrt((x**2)+(y**2))))"
      ],
      "execution_count": 68,
      "outputs": [
        {
          "output_type": "stream",
          "text": [
            "4\n",
            "DOWN 5\n",
            "LEFT 3\n",
            "RIGHT 2\n",
            "OUTPUT 2\n",
            "3\n"
          ],
          "name": "stdout"
        }
      ]
    }
  ]
}