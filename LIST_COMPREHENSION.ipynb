{
  "nbformat": 4,
  "nbformat_minor": 0,
  "metadata": {
    "colab": {
      "name": "LIST COMPREHENSION.ipynb",
      "provenance": [],
      "collapsed_sections": []
    },
    "kernelspec": {
      "name": "python3",
      "display_name": "Python 3"
    }
  },
  "cells": [
    {
      "cell_type": "markdown",
      "metadata": {
        "id": "0LVCuRW0AfqD"
      },
      "source": [
        "Q2.Create a notebook on LIST COMPREHENSION. This exercise is to put you in a Self learning mode"
      ]
    },
    {
      "cell_type": "code",
      "metadata": {
        "id": "tZGX2MMaAmuV",
        "outputId": "1f4fc124-4cfd-4d71-fc47-9473b01ca0e0",
        "colab": {
          "base_uri": "https://localhost:8080/"
        }
      },
      "source": [
        "x=[i for i in range(1,10+1) if i%2==0]\n",
        "print(x)"
      ],
      "execution_count": 1,
      "outputs": [
        {
          "output_type": "stream",
          "text": [
            "[2, 4, 6, 8, 10]\n"
          ],
          "name": "stdout"
        }
      ]
    },
    {
      "cell_type": "code",
      "metadata": {
        "id": "cS8mAU6IBHch",
        "outputId": "0888443c-c0d9-45c8-e088-39bc8ae6d40b",
        "colab": {
          "base_uri": "https://localhost:8080/"
        }
      },
      "source": [
        "#Example 2: Iterating through a string Using for Loop\n",
        "h_letters = []\n",
        "\n",
        "for letter in 'learning at lets upgrade is fun':\n",
        "    h_letters.append(letter)\n",
        "\n",
        "print(h_letters)"
      ],
      "execution_count": 3,
      "outputs": [
        {
          "output_type": "stream",
          "text": [
            "['l', 'e', 'a', 'r', 'n', 'i', 'n', 'g', ' ', 'a', 't', ' ', 'l', 'e', 't', 's', ' ', 'u', 'p', 'g', 'r', 'a', 'd', 'e', ' ', 'i', 's', ' ', 'f', 'u', 'n']\n"
          ],
          "name": "stdout"
        }
      ]
    },
    {
      "cell_type": "code",
      "metadata": {
        "id": "5LKg4HH2BfRV",
        "outputId": "f4badd91-7bec-4f6d-b8a3-14358562c215",
        "colab": {
          "base_uri": "https://localhost:8080/"
        }
      },
      "source": [
        "#Example 3:if...else With List Comprehension\n",
        "obj = [\"Even\" if i%2==0 else \"Odd\" for i in range(10)]\n",
        "print(obj)"
      ],
      "execution_count": 4,
      "outputs": [
        {
          "output_type": "stream",
          "text": [
            "['Even', 'Odd', 'Even', 'Odd', 'Even', 'Odd', 'Even', 'Odd', 'Even', 'Odd']\n"
          ],
          "name": "stdout"
        }
      ]
    },
    {
      "cell_type": "code",
      "metadata": {
        "id": "RZh9tDaeCDjx",
        "outputId": "d11fab06-6695-42b8-a8a3-03774a20c681",
        "colab": {
          "base_uri": "https://localhost:8080/"
        }
      },
      "source": [
        "#Example 4:using uppercase\n",
        "x='rasika'\n",
        "y=[i.upper() for i in x]\n",
        "print(y)"
      ],
      "execution_count": 5,
      "outputs": [
        {
          "output_type": "stream",
          "text": [
            "['R', 'A', 'S', 'I', 'K', 'A']\n"
          ],
          "name": "stdout"
        }
      ]
    }
  ]
}